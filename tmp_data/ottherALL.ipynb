{
 "cells": [
  {
   "cell_type": "code",
   "execution_count": null,
   "metadata": {},
   "outputs": [],
   "source": [
    "#Измененяю колонок с ру на англ.\n",
    "\n",
    "# Переименовываю колонки\n",
    "df.rename(columns={\n",
    "    'ID  объявления': 'id_listing',\n",
    "    'Количество комнат': 'number_of_rooms',\n",
    "    'Тип': 'property_type',\n",
    "    'Метро': 'metro',\n",
    "    'Адрес': 'address',\n",
    "    'Площадь, м2': 'area_m2',\n",
    "    'Дом': 'building_info',\n",
    "    'Парковка': 'parking',\n",
    "    'Цена': 'price',\n",
    "    'Телефоны': 'phones',\n",
    "    'Описание': 'description',\n",
    "    'Ремонт': 'renovation',\n",
    "    'Площадь комнат, м2': 'room_area_m2',\n",
    "    'Балкон': 'balcony',\n",
    "    'Окна': 'windows',\n",
    "    'Санузел': 'bathroom',\n",
    "    'Можно с детьми/животными': 'pets_children_allowed',\n",
    "    'Дополнительно': 'additional_features',\n",
    "    'Название ЖК': 'complex_name',\n",
    "    'Серия дома': 'building_series',\n",
    "    'Высота потолков, м': 'ceiling_height_m',\n",
    "    'Лифт': 'elevator',\n",
    "    'Мусоропровод': 'garbage_chute',\n",
    "    'Ссылка на объявление': 'listing_url'\n",
    "}, inplace=True)\n",
    "\n",
    "# Сохраняю измененный DataFrame в новый CSV файл\n",
    "df.to_csv('/home/s2pac/ElbrusBootcamp/ProjectVERIFICATION/data/renamed_data.csv', index=False)\n"
   ]
  }
 ],
 "metadata": {
  "kernelspec": {
   "display_name": "base",
   "language": "python",
   "name": "python3"
  },
  "language_info": {
   "name": "python",
   "version": "3.12.9"
  }
 },
 "nbformat": 4,
 "nbformat_minor": 2
}
