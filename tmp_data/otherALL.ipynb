{
 "cells": [
  {
   "cell_type": "code",
   "execution_count": 1,
   "metadata": {},
   "outputs": [],
   "source": [
    "#Вытягивание ссылки на объявление для ручной проверки\n",
    "\n",
    "open = df[df['Метро'] == 0]\n",
    "open['Метро'].value_counts()\n",
    "\n",
    "nan_children_pets = open\n",
    "\n",
    "listing_links = nan_children_pets['Ссылка на объявление'].tolist()\n",
    "\n",
    "for link in listing_links:\n",
    "    print(link)"
   ]
  }
 ],
 "metadata": {
  "kernelspec": {
   "display_name": "base",
   "language": "python",
   "name": "python3"
  },
  "language_info": {
   "codemirror_mode": {
    "name": "ipython",
    "version": 3
   },
   "file_extension": ".py",
   "mimetype": "text/x-python",
   "name": "python",
   "nbconvert_exporter": "python",
   "pygments_lexer": "ipython3",
   "version": "3.12.9"
  }
 },
 "nbformat": 4,
 "nbformat_minor": 2
}
