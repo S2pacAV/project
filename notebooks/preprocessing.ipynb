{
 "cells": [
  {
   "cell_type": "code",
   "execution_count": 257,
   "metadata": {},
   "outputs": [],
   "source": [
    "import pandas as pd\n",
    "import numpy as np\n",
    "import matplotlib.pyplot as plt\n",
    "import seaborn as sns\n",
    "import re"
   ]
  },
  {
   "cell_type": "code",
   "execution_count": 258,
   "metadata": {},
   "outputs": [
    {
     "data": {
      "text/html": [
       "<div>\n",
       "<style scoped>\n",
       "    .dataframe tbody tr th:only-of-type {\n",
       "        vertical-align: middle;\n",
       "    }\n",
       "\n",
       "    .dataframe tbody tr th {\n",
       "        vertical-align: top;\n",
       "    }\n",
       "\n",
       "    .dataframe thead th {\n",
       "        text-align: right;\n",
       "    }\n",
       "</style>\n",
       "<table border=\"1\" class=\"dataframe\">\n",
       "  <thead>\n",
       "    <tr style=\"text-align: right;\">\n",
       "      <th></th>\n",
       "      <th>Unnamed: 0</th>\n",
       "      <th>ID  объявления</th>\n",
       "      <th>Количество комнат</th>\n",
       "      <th>Тип</th>\n",
       "      <th>Метро</th>\n",
       "      <th>Адрес</th>\n",
       "      <th>Площадь, м2</th>\n",
       "      <th>Дом</th>\n",
       "      <th>Парковка</th>\n",
       "      <th>Цена</th>\n",
       "      <th>Телефоны</th>\n",
       "      <th>Описание</th>\n",
       "      <th>Ремонт</th>\n",
       "      <th>Площадь комнат, м2</th>\n",
       "      <th>Балкон</th>\n",
       "      <th>Окна</th>\n",
       "      <th>Санузел</th>\n",
       "      <th>Можно с детьми/животными</th>\n",
       "      <th>Дополнительно</th>\n",
       "      <th>Название ЖК</th>\n",
       "      <th>Серия дома</th>\n",
       "      <th>Высота потолков, м</th>\n",
       "      <th>Лифт</th>\n",
       "      <th>Мусоропровод</th>\n",
       "      <th>Ссылка на объявление</th>\n",
       "    </tr>\n",
       "  </thead>\n",
       "  <tbody>\n",
       "    <tr>\n",
       "      <th>0</th>\n",
       "      <td>0</td>\n",
       "      <td>271271157</td>\n",
       "      <td>4</td>\n",
       "      <td>Квартира</td>\n",
       "      <td>м. Смоленская (9 мин пешком)</td>\n",
       "      <td>Москва, улица Новый Арбат, 27</td>\n",
       "      <td>200.0/20.0</td>\n",
       "      <td>5/16, Монолитный</td>\n",
       "      <td>подземная</td>\n",
       "      <td>500000.0 руб./ За месяц, Залог - 500000 руб., ...</td>\n",
       "      <td>+79166369231</td>\n",
       "      <td>Без комиссии для нанимателя! Бонус коллегам 12...</td>\n",
       "      <td>Дизайнерский</td>\n",
       "      <td>NaN</td>\n",
       "      <td>NaN</td>\n",
       "      <td>NaN</td>\n",
       "      <td>NaN</td>\n",
       "      <td>Можно с детьми, Можно с животными</td>\n",
       "      <td>Мебель в комнатах, Мебель на кухне, Ванна, Душ...</td>\n",
       "      <td>Новый Арбат, 2010</td>\n",
       "      <td>NaN</td>\n",
       "      <td>3.0</td>\n",
       "      <td>Пасс (4), Груз (1)</td>\n",
       "      <td>Да</td>\n",
       "      <td>https://www.cian.ru/rent/flat/271271157</td>\n",
       "    </tr>\n",
       "    <tr>\n",
       "      <th>1</th>\n",
       "      <td>1</td>\n",
       "      <td>271634126</td>\n",
       "      <td>4</td>\n",
       "      <td>Квартира</td>\n",
       "      <td>м. Смоленская (8 мин пешком)</td>\n",
       "      <td>Москва, улица Новый Арбат, 27</td>\n",
       "      <td>198.0/95.0/18.0</td>\n",
       "      <td>5/16, Монолитно-кирпичный</td>\n",
       "      <td>подземная</td>\n",
       "      <td>500000.0 руб./ За месяц, Залог - 500000 руб., ...</td>\n",
       "      <td>+79850608590</td>\n",
       "      <td>Лот 93107. Елена Анисимова.\\n\\nБонус агенту 50...</td>\n",
       "      <td>Дизайнерский</td>\n",
       "      <td>25 25 20 25</td>\n",
       "      <td>NaN</td>\n",
       "      <td>На улицу и двор</td>\n",
       "      <td>Совмещенный (2), Раздельный (1)</td>\n",
       "      <td>Можно с детьми</td>\n",
       "      <td>Мебель в комнатах, Мебель на кухне, Ванна, Душ...</td>\n",
       "      <td>Новый Арбат</td>\n",
       "      <td>NaN</td>\n",
       "      <td>3.5</td>\n",
       "      <td>Пасс (1), Груз (1)</td>\n",
       "      <td>Нет</td>\n",
       "      <td>https://www.cian.ru/rent/flat/271634126</td>\n",
       "    </tr>\n",
       "    <tr>\n",
       "      <th>2</th>\n",
       "      <td>2</td>\n",
       "      <td>271173086</td>\n",
       "      <td>4, Оба варианта</td>\n",
       "      <td>Квартира</td>\n",
       "      <td>м. Смоленская (7 мин пешком)</td>\n",
       "      <td>Москва, улица Новый Арбат, 27</td>\n",
       "      <td>200.0/116.0/4.0</td>\n",
       "      <td>5/16</td>\n",
       "      <td>подземная</td>\n",
       "      <td>500000.0 руб./ За месяц, Залог - 500000 руб., ...</td>\n",
       "      <td>+79672086536, +79099269384</td>\n",
       "      <td>ID 36380:  Шикарная 4-х км. квартира в ЖК \"Нов...</td>\n",
       "      <td>Евроремонт</td>\n",
       "      <td>NaN</td>\n",
       "      <td>NaN</td>\n",
       "      <td>На улицу и двор</td>\n",
       "      <td>Совмещенный (3)</td>\n",
       "      <td>Можно с детьми</td>\n",
       "      <td>Мебель в комнатах, Мебель на кухне, Ванна, Душ...</td>\n",
       "      <td>Новый Арбат</td>\n",
       "      <td>NaN</td>\n",
       "      <td>3.2</td>\n",
       "      <td>Пасс (1)</td>\n",
       "      <td>NaN</td>\n",
       "      <td>https://www.cian.ru/rent/flat/271173086</td>\n",
       "    </tr>\n",
       "  </tbody>\n",
       "</table>\n",
       "</div>"
      ],
      "text/plain": [
       "   Unnamed: 0  ID  объявления Количество комнат       Тип  \\\n",
       "0           0       271271157                 4  Квартира   \n",
       "1           1       271634126                 4  Квартира   \n",
       "2           2       271173086   4, Оба варианта  Квартира   \n",
       "\n",
       "                          Метро                          Адрес  \\\n",
       "0  м. Смоленская (9 мин пешком)  Москва, улица Новый Арбат, 27   \n",
       "1  м. Смоленская (8 мин пешком)  Москва, улица Новый Арбат, 27   \n",
       "2  м. Смоленская (7 мин пешком)  Москва, улица Новый Арбат, 27   \n",
       "\n",
       "       Площадь, м2                        Дом   Парковка  \\\n",
       "0       200.0/20.0           5/16, Монолитный  подземная   \n",
       "1  198.0/95.0/18.0  5/16, Монолитно-кирпичный  подземная   \n",
       "2  200.0/116.0/4.0                       5/16  подземная   \n",
       "\n",
       "                                                Цена  \\\n",
       "0  500000.0 руб./ За месяц, Залог - 500000 руб., ...   \n",
       "1  500000.0 руб./ За месяц, Залог - 500000 руб., ...   \n",
       "2  500000.0 руб./ За месяц, Залог - 500000 руб., ...   \n",
       "\n",
       "                     Телефоны  \\\n",
       "0                +79166369231   \n",
       "1                +79850608590   \n",
       "2  +79672086536, +79099269384   \n",
       "\n",
       "                                            Описание        Ремонт  \\\n",
       "0  Без комиссии для нанимателя! Бонус коллегам 12...  Дизайнерский   \n",
       "1  Лот 93107. Елена Анисимова.\\n\\nБонус агенту 50...  Дизайнерский   \n",
       "2  ID 36380:  Шикарная 4-х км. квартира в ЖК \"Нов...    Евроремонт   \n",
       "\n",
       "  Площадь комнат, м2 Балкон             Окна                          Санузел  \\\n",
       "0                NaN    NaN              NaN                              NaN   \n",
       "1        25 25 20 25    NaN  На улицу и двор  Совмещенный (2), Раздельный (1)   \n",
       "2                NaN    NaN  На улицу и двор                  Совмещенный (3)   \n",
       "\n",
       "            Можно с детьми/животными  \\\n",
       "0  Можно с детьми, Можно с животными   \n",
       "1                     Можно с детьми   \n",
       "2                     Можно с детьми   \n",
       "\n",
       "                                       Дополнительно        Название ЖК  \\\n",
       "0  Мебель в комнатах, Мебель на кухне, Ванна, Душ...  Новый Арбат, 2010   \n",
       "1  Мебель в комнатах, Мебель на кухне, Ванна, Душ...        Новый Арбат   \n",
       "2  Мебель в комнатах, Мебель на кухне, Ванна, Душ...        Новый Арбат   \n",
       "\n",
       "  Серия дома  Высота потолков, м                Лифт Мусоропровод  \\\n",
       "0        NaN                 3.0  Пасс (4), Груз (1)           Да   \n",
       "1        NaN                 3.5  Пасс (1), Груз (1)          Нет   \n",
       "2        NaN                 3.2            Пасс (1)          NaN   \n",
       "\n",
       "                      Ссылка на объявление  \n",
       "0  https://www.cian.ru/rent/flat/271271157  \n",
       "1  https://www.cian.ru/rent/flat/271634126  \n",
       "2  https://www.cian.ru/rent/flat/271173086  "
      ]
     },
     "execution_count": 258,
     "metadata": {},
     "output_type": "execute_result"
    }
   ],
   "source": [
    "df = pd.read_csv('/home/s2pac/ElbrusBootcamp/project/data/data.csv')\n",
    "pd.set_option('display.max_columns', None)\n",
    "df.head(3)"
   ]
  },
  {
   "cell_type": "code",
   "execution_count": 259,
   "metadata": {},
   "outputs": [],
   "source": [
    "# Удаляю строки, если в адресе нет Москвы\n",
    "df = df[df['Адрес'].str.lower().str.contains('москва')]\n"
   ]
  },
  {
   "cell_type": "code",
   "execution_count": 260,
   "metadata": {},
   "outputs": [
    {
     "data": {
      "text/html": [
       "<div>\n",
       "<style scoped>\n",
       "    .dataframe tbody tr th:only-of-type {\n",
       "        vertical-align: middle;\n",
       "    }\n",
       "\n",
       "    .dataframe tbody tr th {\n",
       "        vertical-align: top;\n",
       "    }\n",
       "\n",
       "    .dataframe thead th {\n",
       "        text-align: right;\n",
       "    }\n",
       "</style>\n",
       "<table border=\"1\" class=\"dataframe\">\n",
       "  <thead>\n",
       "    <tr style=\"text-align: right;\">\n",
       "      <th></th>\n",
       "      <th>ID  объявления</th>\n",
       "      <th>Количество комнат</th>\n",
       "      <th>Метро</th>\n",
       "      <th>Адрес</th>\n",
       "      <th>Площадь, м2</th>\n",
       "      <th>Дом</th>\n",
       "      <th>Цена</th>\n",
       "      <th>Ремонт</th>\n",
       "      <th>Санузел</th>\n",
       "      <th>Лифт</th>\n",
       "    </tr>\n",
       "  </thead>\n",
       "  <tbody>\n",
       "    <tr>\n",
       "      <th>0</th>\n",
       "      <td>271271157</td>\n",
       "      <td>4</td>\n",
       "      <td>м. Смоленская (9 мин пешком)</td>\n",
       "      <td>Москва, улица Новый Арбат, 27</td>\n",
       "      <td>200.0/20.0</td>\n",
       "      <td>5/16, Монолитный</td>\n",
       "      <td>500000.0 руб./ За месяц, Залог - 500000 руб., ...</td>\n",
       "      <td>Дизайнерский</td>\n",
       "      <td>NaN</td>\n",
       "      <td>Пасс (4), Груз (1)</td>\n",
       "    </tr>\n",
       "  </tbody>\n",
       "</table>\n",
       "</div>"
      ],
      "text/plain": [
       "   ID  объявления Количество комнат                         Метро  \\\n",
       "0       271271157                 4  м. Смоленская (9 мин пешком)   \n",
       "\n",
       "                           Адрес Площадь, м2               Дом  \\\n",
       "0  Москва, улица Новый Арбат, 27  200.0/20.0  5/16, Монолитный   \n",
       "\n",
       "                                                Цена        Ремонт Санузел  \\\n",
       "0  500000.0 руб./ За месяц, Залог - 500000 руб., ...  Дизайнерский     NaN   \n",
       "\n",
       "                 Лифт  \n",
       "0  Пасс (4), Груз (1)  "
      ]
     },
     "execution_count": 260,
     "metadata": {},
     "output_type": "execute_result"
    }
   ],
   "source": [
    "#Удаляю лишние колонки, которые не нужны для анализа\n",
    "df.drop(columns=[\"Unnamed: 0\", \"Парковка\", \"Телефоны\", \"Описание\", \"Ссылка на объявление\", \"Серия дома\", \"Название ЖК\", \"Тип\", \"Высота потолков, м\", \"Мусоропровод\", \"Площадь комнат, м2\", \"Балкон\", \"Можно с детьми/животными\", \"Дополнительно\", \"Окна\"], inplace=True)\n",
    "df.head(1)"
   ]
  },
  {
   "cell_type": "code",
   "execution_count": 261,
   "metadata": {},
   "outputs": [
    {
     "data": {
      "text/plain": [
       "0"
      ]
     },
     "execution_count": 261,
     "metadata": {},
     "output_type": "execute_result"
    }
   ],
   "source": [
    "#Проверяю на дубликаты\n",
    "df.duplicated().sum().tolist()"
   ]
  },
  {
   "cell_type": "markdown",
   "metadata": {},
   "source": [
    "**Обрабатываю Цену**\n"
   ]
  },
  {
   "cell_type": "code",
   "execution_count": 262,
   "metadata": {},
   "outputs": [],
   "source": [
    "# Преобразую цену в целое число\n",
    "df['Цена'] = df['Цена'].str.split('.').str[0]\n",
    "df['Цена'] = df['Цена'].astype('int')"
   ]
  },
  {
   "cell_type": "markdown",
   "metadata": {},
   "source": [
    "**Обрабатываю колонку Ремонт**"
   ]
  },
  {
   "cell_type": "code",
   "execution_count": 263,
   "metadata": {},
   "outputs": [
    {
     "data": {
      "text/plain": [
       "array(['Дизайнерский', 'Евроремонт', 'Косметический', nan, 'Без ремонта'],\n",
       "      dtype=object)"
      ]
     },
     "execution_count": 263,
     "metadata": {},
     "output_type": "execute_result"
    }
   ],
   "source": [
    "df[\"Ремонт\"].unique()"
   ]
  },
  {
   "cell_type": "code",
   "execution_count": 264,
   "metadata": {},
   "outputs": [
    {
     "name": "stderr",
     "output_type": "stream",
     "text": [
      "/tmp/ipykernel_63142/1091225742.py:6: FutureWarning: Downcasting behavior in `replace` is deprecated and will be removed in a future version. To retain the old behavior, explicitly call `result.infer_objects(copy=False)`. To opt-in to the future behavior, set `pd.set_option('future.no_silent_downcasting', True)`\n",
      "  df['Ремонт'] = df['Ремонт'].replace({\n",
      "/tmp/ipykernel_63142/1091225742.py:17: FutureWarning: A value is trying to be set on a copy of a DataFrame or Series through chained assignment using an inplace method.\n",
      "The behavior will change in pandas 3.0. This inplace method will never work because the intermediate object on which we are setting values always behaves as a copy.\n",
      "\n",
      "For example, when doing 'df[col].method(value, inplace=True)', try using 'df.method({col: value}, inplace=True)' or df[col] = df[col].method(value) instead, to perform the operation inplace on the original object.\n",
      "\n",
      "\n",
      "  df['Ремонт'].fillna(repair_mode, inplace=True)\n"
     ]
    }
   ],
   "source": [
    "#0 - Косметический\n",
    "#1 - Без ремонта\n",
    "#2 - Евроремонт\n",
    "#3 - Дизайнерский\n",
    "\n",
    "df['Ремонт'] = df['Ремонт'].replace({\n",
    "    'Косметический': 0,\n",
    "    'Без ремонта': 1,\n",
    "    'Евроремонт': 2,\n",
    "    'Дизайнерский': 3\n",
    "})\n",
    "\n",
    "# Нахожу наиболее частый тип ремонта\n",
    "repair_mode = df['Ремонт'].mode()[0]\n",
    "\n",
    "# Заполняю пропуски\n",
    "df['Ремонт'].fillna(repair_mode, inplace=True)\n",
    "\n",
    "# Преобразую в целочисленный тип\n",
    "df['Ремонт'] = df['Ремонт'].astype(int)\n"
   ]
  },
  {
   "cell_type": "markdown",
   "metadata": {},
   "source": [
    "**Обрабатываю Количество комнат** "
   ]
  },
  {
   "cell_type": "code",
   "execution_count": 265,
   "metadata": {},
   "outputs": [],
   "source": [
    "# Удаляю из колонки все символы после запятой\n",
    "df['Количество комнат'] = df['Количество комнат'].astype(str).str.split(',').str[0]\n",
    "\n",
    "# Преобразую колонку в числовой формат\n",
    "df['Количество комнат'] = pd.to_numeric(df['Количество комнат'], errors='coerce')\n",
    "\n",
    "# Создаю словарь значения количества комнат по цене\n",
    "house_bathroom_types = df.groupby('Цена')['Количество комнат'].agg(\n",
    "    lambda x: x.mode()[0] if len(x.mode()) > 0 and not pd.isna(x.mode()[0]) else None\n",
    ").to_dict()\n",
    "\n",
    "# Заполнения пропуски на основе цены\n",
    "def fill_rooms_by_price(row):\n",
    "    if pd.isna(row['Количество комнат']):\n",
    "        price = row['Цена']\n",
    "        if price in house_bathroom_types and not pd.isna(house_bathroom_types[price]):\n",
    "            return house_bathroom_types[price]\n",
    "    return row['Количество комнат']\n",
    "\n",
    "# Применяю функцию заполнения\n",
    "df['Количество комнат'] = df.apply(fill_rooms_by_price, axis=1)\n",
    "\n",
    "# Если остались пропуски, заполняю наиболее частым значением\n",
    "room_mode = df['Количество комнат'].mode()[0]\n",
    "df['Количество комнат'] = df['Количество комнат'].fillna(room_mode)\n",
    "\n",
    "#Приведу в числовой тип к int\n",
    "df['Количество комнат'] = df['Количество комнат'].astype(int)"
   ]
  },
  {
   "cell_type": "markdown",
   "metadata": {},
   "source": [
    "**Обрабатываю Дом**"
   ]
  },
  {
   "cell_type": "code",
   "execution_count": 266,
   "metadata": {},
   "outputs": [],
   "source": [
    "#Удаляю из колонки Дом все символы до запятой\n",
    "df['Дом'] = df['Дом'].str.split(',').str[1]"
   ]
  },
  {
   "cell_type": "code",
   "execution_count": 267,
   "metadata": {},
   "outputs": [],
   "source": [
    "# Выделяю имя станции метро из строки\n",
    "def extract_metro_station(metro_str):\n",
    "    if pd.isna(metro_str):\n",
    "        return None\n",
    "    try:\n",
    "        # Извлекаю станцию метро\n",
    "        match = re.search(r'м\\.\\s+([^(]+)', metro_str)\n",
    "        if match:\n",
    "            return match.group(1).strip()\n",
    "        return None\n",
    "    except Exception:\n",
    "        return None\n",
    "\n",
    "# Создаю новую колонку с названиями станций метро\n",
    "df['Станция_метро'] = df['Метро'].apply(extract_metro_station)\n",
    "\n",
    "# Создаю словарь наиболее частых типов домов по станции метро\n",
    "station_house_types = df.groupby('Станция_метро')['Дом'].agg(lambda x: x.mode()[0] if len(x.mode()) > 0 else None).to_dict()\n",
    "\n",
    "# Заполняю пропуски на основе станции метро\n",
    "def fill_house_by_station(row):\n",
    "    if pd.isna(row['Дом']):\n",
    "        station = row['Станция_метро']\n",
    "        if station in station_house_types and not pd.isna(station_house_types[station]):\n",
    "            return station_house_types[station]\n",
    "    return row['Дом']\n",
    "\n",
    "# Применяю функцию заполнения\n",
    "df['Дом'] = df.apply(fill_house_by_station, axis=1)\n",
    "\n",
    "# Если остались пропуски, заполняю общим наиболее частым значением\n",
    "df['Дом'] = df['Дом'].fillna(df['Дом'].mode()[0])\n"
   ]
  },
  {
   "cell_type": "code",
   "execution_count": 268,
   "metadata": {},
   "outputs": [
    {
     "data": {
      "text/plain": [
       "array([' Монолитный', ' Монолитно-кирпичный', ' Кирпичный', ' Панельный',\n",
       "       ' Сталинский', ' старый фонд', ' Блочный', ' Деревянный',\n",
       "       ' Щитовой'], dtype=object)"
      ]
     },
     "execution_count": 268,
     "metadata": {},
     "output_type": "execute_result"
    }
   ],
   "source": [
    "df['Дом'].unique()"
   ]
  },
  {
   "cell_type": "code",
   "execution_count": 269,
   "metadata": {},
   "outputs": [
    {
     "name": "stderr",
     "output_type": "stream",
     "text": [
      "/tmp/ipykernel_63142/1842918352.py:7: FutureWarning: Downcasting behavior in `replace` is deprecated and will be removed in a future version. To retain the old behavior, explicitly call `result.infer_objects(copy=False)`. To opt-in to the future behavior, set `pd.set_option('future.no_silent_downcasting', True)`\n",
      "  df['Дом'] = df['Дом'].replace({\n",
      "/tmp/ipykernel_63142/1842918352.py:23: FutureWarning: A value is trying to be set on a copy of a DataFrame or Series through chained assignment using an inplace method.\n",
      "The behavior will change in pandas 3.0. This inplace method will never work because the intermediate object on which we are setting values always behaves as a copy.\n",
      "\n",
      "For example, when doing 'df[col].method(value, inplace=True)', try using 'df.method({col: value}, inplace=True)' or df[col] = df[col].method(value) instead, to perform the operation inplace on the original object.\n",
      "\n",
      "\n",
      "  df['Дом'].fillna(house, inplace=True)\n"
     ]
    }
   ],
   "source": [
    "#0 - Панельный/Блочный/Щитовой\n",
    "#1 - Кирпичный/Деревянный\n",
    "#2 - Монолитный/Сталинский\n",
    "#3 - Монолитно-кирпичный\n",
    "#4 - старый фонд\n",
    "\n",
    "df['Дом'] = df['Дом'].replace({\n",
    "    ' Панельный': 0,\n",
    "    ' Блочный': 0,\n",
    "    ' Щитовой': 0,\n",
    "    ' Кирпичный': 1,\n",
    "    ' Деревянный': 1,\n",
    "    ' Монолитный': 2,\n",
    "    ' Сталинский': 2,\n",
    "    ' Монолитно-кирпичный': 3,\n",
    "    ' старый фонд': 4\n",
    "})\n",
    "\n",
    "# Нахожу наиболее частый тип Дома\n",
    "house = df['Дом'].mode()[0]\n",
    "\n",
    "# Заполняю пропуски\n",
    "df['Дом'].fillna(house, inplace=True)\n",
    "\n",
    "# Преобразую в целочисленный тип\n",
    "df['Дом'] = df['Дом'].astype(int)"
   ]
  },
  {
   "cell_type": "markdown",
   "metadata": {},
   "source": [
    "**Обрабатываю метро**"
   ]
  },
  {
   "cell_type": "code",
   "execution_count": 270,
   "metadata": {},
   "outputs": [],
   "source": [
    "# Преобразую колонку Метро в значение времени в минутах (пешком)\n",
    "def preprocess_metro(metro_str):\n",
    "    if pd.isna(metro_str):\n",
    "        return None\n",
    "    try:\n",
    "        number = re.search(r'\\((\\d+)', metro_str)\n",
    "        if not number:\n",
    "            return None\n",
    "        number = int(number.group(1))\n",
    "        if 'на машине' in metro_str:\n",
    "            return number * 4.9\n",
    "        else:\n",
    "            return number\n",
    "    except Exception:\n",
    "        return None\n",
    "\n",
    "# Создаю новую колонку с названиями станций метро\n",
    "df['Станция_метро'] = df['Метро'].apply(extract_metro_station)\n",
    "\n",
    "df['Метро_время'] = df['Метро'].apply(preprocess_metro)\n",
    "\n",
    "# Преобразую к числовому типу\n",
    "df['Метро_время'] = pd.to_numeric(df['Метро_время'], errors='coerce')\n",
    "\n",
    "# Заполняю пропущенные значения медианой по станциям\n",
    "# Создаю словарь медиан для каждой станции\n",
    "station_medians = df.groupby('Станция_метро')['Метро_время'].median().to_dict()\n",
    "\n",
    "# Функция для заполнения пропусков на основе станции\n",
    "def fill_metro_by_station(row):\n",
    "    if pd.isna(row['Метро_время']) and not pd.isna(row['Станция_метро']):\n",
    "        station = row['Станция_метро']\n",
    "        if station in station_medians and not pd.isna(station_medians[station]):\n",
    "            return station_medians[station]\n",
    "    return row['Метро_время']\n",
    "\n",
    "# Применяю функцию заполнения\n",
    "df['Метро_время'] = df.apply(fill_metro_by_station, axis=1)\n",
    "\n",
    "# Если все еще остались пропуски, заполняю их общей медианой\n",
    "overall_median = df['Метро_время'].median()\n",
    "df['Метро_время'] = df['Метро_время'].fillna(overall_median)\n",
    "\n",
    "# Преобразую в целочисленный тип\n",
    "df['Метро_время'] = df['Метро_время'].round().astype('int')\n",
    "\n",
    "# Заменяю исходную колонку Метро на обработанную Метро_время\n",
    "df['Метро'] = df['Метро_время']\n",
    "\n",
    "# Удаляю временные колонки\n",
    "df = df.drop(['Метро_время', 'Станция_метро'], axis=1)\n"
   ]
  },
  {
   "cell_type": "markdown",
   "metadata": {},
   "source": [
    "**Обрабатываю Площадь**"
   ]
  },
  {
   "cell_type": "code",
   "execution_count": 271,
   "metadata": {},
   "outputs": [],
   "source": [
    "# Обрабатываю площадь\n",
    "df['Площадь, м2'] = df['Площадь, м2'].apply(lambda x: x.split('/')[0] if '/' in x else x)\n",
    "\n",
    "#Преобразую в float\n",
    "df['Площадь, м2'] =  df['Площадь, м2'].astype('float')\n",
    "\n",
    "#Преобразую в int\n",
    "df['Площадь, м2'] = df['Площадь, м2'].astype('int')"
   ]
  },
  {
   "cell_type": "markdown",
   "metadata": {},
   "source": [
    "**Обрабатываю Санузел**"
   ]
  },
  {
   "cell_type": "code",
   "execution_count": 272,
   "metadata": {},
   "outputs": [
    {
     "name": "stderr",
     "output_type": "stream",
     "text": [
      "/tmp/ipykernel_63142/2362877580.py:16: FutureWarning: Downcasting behavior in `replace` is deprecated and will be removed in a future version. To retain the old behavior, explicitly call `result.infer_objects(copy=False)`. To opt-in to the future behavior, set `pd.set_option('future.no_silent_downcasting', True)`\n",
      "  df['Санузел'] = df['Санузел'].replace({\n"
     ]
    }
   ],
   "source": [
    "#0 - Совмещенный (1) / Раздельный (1) / Совмещенный (1), Раздельный (1) / Совмещенный (2) /\n",
    "# Раздельный (2) / Совмещенный (1), Раздельный (2) / Совмещенный (2), Раздельный (2) / Совмещенный (2), Раздельный (2)\n",
    "\n",
    "#1 - Совмещенный (2), Раздельный (1) / Совмещенный (3) / Совмещенный (1), Раздельный (3) /\n",
    "# Совмещенный (3), Раздельный (2)\n",
    "\n",
    "#2 - Совмещенный (3), Раздельный (3) / Совмещенный (2), Раздельный (3) / Совмещенный (3), Раздельный (1)\n",
    "\n",
    "#3 - Раздельный (3) / Совмещенный (4) / Совмещенный (4), Раздельный (1)\n",
    "\n",
    "#4 - Раздельный (4) / Совмещенный (4), Раздельный (2)\n",
    "\n",
    "#5 - Совмещенный (2), Раздельный (4)\n",
    "\n",
    "\n",
    "df['Санузел'] = df['Санузел'].replace({\n",
    "    'Совмещенный (1)': 0,\n",
    "    'Раздельный (1)': 0,\n",
    "    'Совмещенный (1), Раздельный (1)': 0,\n",
    "    'Совмещенный (2)': 0,\n",
    "    'Раздельный (2) / Совмещенный (1)': 0,\n",
    "    'Раздельный (2)': 0,\n",
    "    'Совмещенный (1), Раздельный (2)': 0,\n",
    "    'Совмещенный (2), Раздельный (2)': 0,\n",
    "    'Совмещенный (2), Раздельный (1)': 1,\n",
    "    'Совмещенный (3)': 1,\n",
    "    'Совмещенный (1), Раздельный (3)': 1,\n",
    "    'Совмещенный (3), Раздельный (2)': 1,\n",
    "    'Совмещенный (3), Раздельный (3)': 2,\n",
    "    'Совмещенный (2), Раздельный (3)': 2,\n",
    "    'Совмещенный (3), Раздельный (1)': 2,\n",
    "    'Раздельный (3)': 3,\n",
    "    'Совмещенный (4)': 3,\n",
    "    'Совмещенный (4), Раздельный (1)': 3,\n",
    "    'Раздельный (4)': 4,\n",
    "    'Совмещенный (4), Раздельный (2)': 4,\n",
    "    'Совмещенный (2), Раздельный (4)': 5,\n",
    "\n",
    "\n",
    "})"
   ]
  },
  {
   "cell_type": "code",
   "execution_count": 273,
   "metadata": {},
   "outputs": [],
   "source": [
    "# Создаю словарь санузлов по типу дома\n",
    "house_bathroom_types = df.groupby('Дом')['Санузел'].agg(lambda x: x.mode()[0] if len(x.mode()) > 0 and not pd.isna(x.mode()[0]) else None).to_dict()\n",
    "\n",
    "#Заполняю пропуски на основе типа дома\n",
    "def fill_bathroom_by_house(row):\n",
    "    if pd.isna(row['Санузел']):\n",
    "        house = row['Дом']\n",
    "        if house in house_bathroom_types and not pd.isna(house_bathroom_types[house]):\n",
    "            return house_bathroom_types[house]\n",
    "    return row['Санузел']\n",
    "\n",
    "df['Санузел'] = df.apply(fill_bathroom_by_house, axis=1)\n",
    "\n",
    "#Привожу к int\n",
    "df['Санузел'] = df['Санузел'].astype(int)"
   ]
  },
  {
   "cell_type": "code",
   "execution_count": 274,
   "metadata": {},
   "outputs": [],
   "source": [
    "df.drop(columns=[\"Адрес\", \"Лифт\"], inplace=True)"
   ]
  },
  {
   "cell_type": "code",
   "execution_count": 275,
   "metadata": {},
   "outputs": [
    {
     "name": "stdout",
     "output_type": "stream",
     "text": [
      "<class 'pandas.core.frame.DataFrame'>\n",
      "Index: 19737 entries, 0 to 23367\n",
      "Data columns (total 8 columns):\n",
      " #   Column             Non-Null Count  Dtype\n",
      "---  ------             --------------  -----\n",
      " 0   ID  объявления     19737 non-null  int64\n",
      " 1   Количество комнат  19737 non-null  int64\n",
      " 2   Метро              19737 non-null  int64\n",
      " 3   Площадь, м2        19737 non-null  int64\n",
      " 4   Дом                19737 non-null  int64\n",
      " 5   Цена               19737 non-null  int64\n",
      " 6   Ремонт             19737 non-null  int64\n",
      " 7   Санузел            19737 non-null  int64\n",
      "dtypes: int64(8)\n",
      "memory usage: 1.4 MB\n"
     ]
    }
   ],
   "source": [
    "df.info()"
   ]
  },
  {
   "cell_type": "markdown",
   "metadata": {},
   "source": [
    "**Измененяю колонки с русского на английский**"
   ]
  },
  {
   "cell_type": "code",
   "execution_count": 276,
   "metadata": {},
   "outputs": [],
   "source": [
    "# Переименовываю колонки\n",
    "df.rename(columns={\n",
    "    'ID  объявления': 'id_listing',\n",
    "    'Количество комнат': 'number_of_rooms',\n",
    "    'Метро': 'metro_on_foot',\n",
    "    'Площадь, м2': 'area_m2',\n",
    "    'Дом': 'building_info',\n",
    "    'Цена': 'price',\n",
    "    'Ремонт': 'renovation',\n",
    "    'Санузел': 'bathroom',\n",
    "}, inplace=True)\n",
    "\n",
    "# Сохраняю измененния в файл\n",
    "df.to_csv('/home/s2pac/ElbrusBootcamp/project/data/edited_data.csv', index=False)\n"
   ]
  },
  {
   "cell_type": "code",
   "execution_count": 277,
   "metadata": {},
   "outputs": [
    {
     "name": "stdout",
     "output_type": "stream",
     "text": [
      "Колонки в датасете:\n",
      "['id_listing', 'number_of_rooms', 'metro_on_foot', 'area_m2', 'building_info', 'price', 'renovation', 'bathroom']\n"
     ]
    }
   ],
   "source": [
    "# Выведем информацию о колонках\n",
    "print(\"Колонки в датасете:\")\n",
    "print(df.columns.tolist())"
   ]
  },
  {
   "cell_type": "code",
   "execution_count": 278,
   "metadata": {},
   "outputs": [
    {
     "name": "stdout",
     "output_type": "stream",
     "text": [
      "Первые 3 строки:\n",
      "   id_listing  number_of_rooms  metro_on_foot  area_m2  building_info   price  \\\n",
      "0   271271157                4              9      200              2  500000   \n",
      "1   271634126                4              8      198              3  500000   \n",
      "2   271173086                4              7      200              1  500000   \n",
      "\n",
      "   renovation  bathroom  \n",
      "0           3         0  \n",
      "1           3         1  \n",
      "2           2         1  \n"
     ]
    }
   ],
   "source": [
    "# Выведем первые 3 строки\n",
    "print(\"Первые 3 строки:\")\n",
    "print(df.head(3))"
   ]
  },
  {
   "cell_type": "code",
   "execution_count": 279,
   "metadata": {},
   "outputs": [
    {
     "name": "stdout",
     "output_type": "stream",
     "text": [
      "Количество пропущенных значений в каждой колонке:\n",
      "id_listing         0\n",
      "number_of_rooms    0\n",
      "metro_on_foot      0\n",
      "area_m2            0\n",
      "building_info      0\n",
      "price              0\n",
      "renovation         0\n",
      "bathroom           0\n",
      "dtype: int64\n"
     ]
    }
   ],
   "source": [
    "# Проверим наличие пропущенных значений\n",
    "print(\"Количество пропущенных значений в каждой колонке:\")\n",
    "print(df.isna().sum())"
   ]
  },
  {
   "cell_type": "code",
   "execution_count": 280,
   "metadata": {},
   "outputs": [
    {
     "name": "stdout",
     "output_type": "stream",
     "text": [
      "Типы данных:\n",
      "id_listing         int64\n",
      "number_of_rooms    int64\n",
      "metro_on_foot      int64\n",
      "area_m2            int64\n",
      "building_info      int64\n",
      "price              int64\n",
      "renovation         int64\n",
      "bathroom           int64\n",
      "dtype: object\n"
     ]
    }
   ],
   "source": [
    "# Проверим типы данных\n",
    "print(\"Типы данных:\")\n",
    "print(df.dtypes)"
   ]
  },
  {
   "cell_type": "code",
   "execution_count": 281,
   "metadata": {},
   "outputs": [
    {
     "name": "stdout",
     "output_type": "stream",
     "text": [
      "Статистика по численным данным:\n",
      "         id_listing  number_of_rooms  metro_on_foot       area_m2  \\\n",
      "count  1.973700e+04     19737.000000   19737.000000  19737.000000   \n",
      "mean   2.671149e+08         2.015352      12.869585     63.516796   \n",
      "std    1.980106e+07         0.999502      14.270145     47.953921   \n",
      "min    1.072986e+08         1.000000       0.000000      7.000000   \n",
      "25%    2.712212e+08         1.000000       6.000000     38.000000   \n",
      "50%    2.739284e+08         2.000000      10.000000     49.000000   \n",
      "75%    2.746973e+08         3.000000      15.000000     70.000000   \n",
      "max    2.750064e+08         6.000000     294.000000    811.000000   \n",
      "\n",
      "       building_info         price    renovation      bathroom  \n",
      "count   19737.000000  1.973700e+04  19737.000000  19737.000000  \n",
      "mean        0.826417  8.656385e+04      1.138116      0.046917  \n",
      "std         0.949988  1.281483e+05      1.181354      0.313731  \n",
      "min         0.000000  5.000000e+03      0.000000      0.000000  \n",
      "25%         0.000000  3.999000e+04      0.000000      0.000000  \n",
      "50%         1.000000  5.000000e+04      1.000000      0.000000  \n",
      "75%         2.000000  7.500000e+04      2.000000      0.000000  \n",
      "max         4.000000  3.000000e+06      3.000000      5.000000  \n"
     ]
    }
   ],
   "source": [
    "# Базовая статистика по численным колонкам\n",
    "print(\"Статистика по численным данным:\")\n",
    "print(df.describe())"
   ]
  },
  {
   "cell_type": "code",
   "execution_count": 282,
   "metadata": {},
   "outputs": [
    {
     "name": "stdout",
     "output_type": "stream",
     "text": [
      "Количество строк: 19737\n",
      "Проверка на дубликаты: 0 дубликатов\n"
     ]
    }
   ],
   "source": [
    "print(f\"Количество строк: {len(df)}\")\n",
    "print(f\"Проверка на дубликаты: {df.duplicated().sum()} дубликатов\")"
   ]
  }
 ],
 "metadata": {
  "kernelspec": {
   "display_name": "base",
   "language": "python",
   "name": "python3"
  },
  "language_info": {
   "codemirror_mode": {
    "name": "ipython",
    "version": 3
   },
   "file_extension": ".py",
   "mimetype": "text/x-python",
   "name": "python",
   "nbconvert_exporter": "python",
   "pygments_lexer": "ipython3",
   "version": "3.12.9"
  }
 },
 "nbformat": 4,
 "nbformat_minor": 2
}
