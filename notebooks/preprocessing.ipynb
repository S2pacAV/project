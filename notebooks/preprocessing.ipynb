{
 "cells": [
  {
   "cell_type": "code",
   "execution_count": 183,
   "metadata": {},
   "outputs": [],
   "source": [
    "import pandas as pd\n",
    "import numpy as np\n",
    "import matplotlib.pyplot as plt\n",
    "import seaborn as sns\n",
    "import re"
   ]
  },
  {
   "cell_type": "code",
   "execution_count": 184,
   "metadata": {},
   "outputs": [
    {
     "data": {
      "text/html": [
       "<div>\n",
       "<style scoped>\n",
       "    .dataframe tbody tr th:only-of-type {\n",
       "        vertical-align: middle;\n",
       "    }\n",
       "\n",
       "    .dataframe tbody tr th {\n",
       "        vertical-align: top;\n",
       "    }\n",
       "\n",
       "    .dataframe thead th {\n",
       "        text-align: right;\n",
       "    }\n",
       "</style>\n",
       "<table border=\"1\" class=\"dataframe\">\n",
       "  <thead>\n",
       "    <tr style=\"text-align: right;\">\n",
       "      <th></th>\n",
       "      <th>Unnamed: 0</th>\n",
       "      <th>ID  объявления</th>\n",
       "      <th>Количество комнат</th>\n",
       "      <th>Тип</th>\n",
       "      <th>Метро</th>\n",
       "      <th>Адрес</th>\n",
       "      <th>Площадь, м2</th>\n",
       "      <th>Дом</th>\n",
       "      <th>Парковка</th>\n",
       "      <th>Цена</th>\n",
       "      <th>Телефоны</th>\n",
       "      <th>Описание</th>\n",
       "      <th>Ремонт</th>\n",
       "      <th>Площадь комнат, м2</th>\n",
       "      <th>Балкон</th>\n",
       "      <th>Окна</th>\n",
       "      <th>Санузел</th>\n",
       "      <th>Можно с детьми/животными</th>\n",
       "      <th>Дополнительно</th>\n",
       "      <th>Название ЖК</th>\n",
       "      <th>Серия дома</th>\n",
       "      <th>Высота потолков, м</th>\n",
       "      <th>Лифт</th>\n",
       "      <th>Мусоропровод</th>\n",
       "      <th>Ссылка на объявление</th>\n",
       "    </tr>\n",
       "  </thead>\n",
       "  <tbody>\n",
       "    <tr>\n",
       "      <th>0</th>\n",
       "      <td>0</td>\n",
       "      <td>271271157</td>\n",
       "      <td>4</td>\n",
       "      <td>Квартира</td>\n",
       "      <td>м. Смоленская (9 мин пешком)</td>\n",
       "      <td>Москва, улица Новый Арбат, 27</td>\n",
       "      <td>200.0/20.0</td>\n",
       "      <td>5/16, Монолитный</td>\n",
       "      <td>подземная</td>\n",
       "      <td>500000.0 руб./ За месяц, Залог - 500000 руб., ...</td>\n",
       "      <td>+79166369231</td>\n",
       "      <td>Без комиссии для нанимателя! Бонус коллегам 12...</td>\n",
       "      <td>Дизайнерский</td>\n",
       "      <td>NaN</td>\n",
       "      <td>NaN</td>\n",
       "      <td>NaN</td>\n",
       "      <td>NaN</td>\n",
       "      <td>Можно с детьми, Можно с животными</td>\n",
       "      <td>Мебель в комнатах, Мебель на кухне, Ванна, Душ...</td>\n",
       "      <td>Новый Арбат, 2010</td>\n",
       "      <td>NaN</td>\n",
       "      <td>3.0</td>\n",
       "      <td>Пасс (4), Груз (1)</td>\n",
       "      <td>Да</td>\n",
       "      <td>https://www.cian.ru/rent/flat/271271157</td>\n",
       "    </tr>\n",
       "    <tr>\n",
       "      <th>1</th>\n",
       "      <td>1</td>\n",
       "      <td>271634126</td>\n",
       "      <td>4</td>\n",
       "      <td>Квартира</td>\n",
       "      <td>м. Смоленская (8 мин пешком)</td>\n",
       "      <td>Москва, улица Новый Арбат, 27</td>\n",
       "      <td>198.0/95.0/18.0</td>\n",
       "      <td>5/16, Монолитно-кирпичный</td>\n",
       "      <td>подземная</td>\n",
       "      <td>500000.0 руб./ За месяц, Залог - 500000 руб., ...</td>\n",
       "      <td>+79850608590</td>\n",
       "      <td>Лот 93107. Елена Анисимова.\\n\\nБонус агенту 50...</td>\n",
       "      <td>Дизайнерский</td>\n",
       "      <td>25 25 20 25</td>\n",
       "      <td>NaN</td>\n",
       "      <td>На улицу и двор</td>\n",
       "      <td>Совмещенный (2), Раздельный (1)</td>\n",
       "      <td>Можно с детьми</td>\n",
       "      <td>Мебель в комнатах, Мебель на кухне, Ванна, Душ...</td>\n",
       "      <td>Новый Арбат</td>\n",
       "      <td>NaN</td>\n",
       "      <td>3.5</td>\n",
       "      <td>Пасс (1), Груз (1)</td>\n",
       "      <td>Нет</td>\n",
       "      <td>https://www.cian.ru/rent/flat/271634126</td>\n",
       "    </tr>\n",
       "    <tr>\n",
       "      <th>2</th>\n",
       "      <td>2</td>\n",
       "      <td>271173086</td>\n",
       "      <td>4, Оба варианта</td>\n",
       "      <td>Квартира</td>\n",
       "      <td>м. Смоленская (7 мин пешком)</td>\n",
       "      <td>Москва, улица Новый Арбат, 27</td>\n",
       "      <td>200.0/116.0/4.0</td>\n",
       "      <td>5/16</td>\n",
       "      <td>подземная</td>\n",
       "      <td>500000.0 руб./ За месяц, Залог - 500000 руб., ...</td>\n",
       "      <td>+79672086536, +79099269384</td>\n",
       "      <td>ID 36380:  Шикарная 4-х км. квартира в ЖК \"Нов...</td>\n",
       "      <td>Евроремонт</td>\n",
       "      <td>NaN</td>\n",
       "      <td>NaN</td>\n",
       "      <td>На улицу и двор</td>\n",
       "      <td>Совмещенный (3)</td>\n",
       "      <td>Можно с детьми</td>\n",
       "      <td>Мебель в комнатах, Мебель на кухне, Ванна, Душ...</td>\n",
       "      <td>Новый Арбат</td>\n",
       "      <td>NaN</td>\n",
       "      <td>3.2</td>\n",
       "      <td>Пасс (1)</td>\n",
       "      <td>NaN</td>\n",
       "      <td>https://www.cian.ru/rent/flat/271173086</td>\n",
       "    </tr>\n",
       "  </tbody>\n",
       "</table>\n",
       "</div>"
      ],
      "text/plain": [
       "   Unnamed: 0  ID  объявления Количество комнат       Тип  \\\n",
       "0           0       271271157                 4  Квартира   \n",
       "1           1       271634126                 4  Квартира   \n",
       "2           2       271173086   4, Оба варианта  Квартира   \n",
       "\n",
       "                          Метро                          Адрес  \\\n",
       "0  м. Смоленская (9 мин пешком)  Москва, улица Новый Арбат, 27   \n",
       "1  м. Смоленская (8 мин пешком)  Москва, улица Новый Арбат, 27   \n",
       "2  м. Смоленская (7 мин пешком)  Москва, улица Новый Арбат, 27   \n",
       "\n",
       "       Площадь, м2                        Дом   Парковка  \\\n",
       "0       200.0/20.0           5/16, Монолитный  подземная   \n",
       "1  198.0/95.0/18.0  5/16, Монолитно-кирпичный  подземная   \n",
       "2  200.0/116.0/4.0                       5/16  подземная   \n",
       "\n",
       "                                                Цена  \\\n",
       "0  500000.0 руб./ За месяц, Залог - 500000 руб., ...   \n",
       "1  500000.0 руб./ За месяц, Залог - 500000 руб., ...   \n",
       "2  500000.0 руб./ За месяц, Залог - 500000 руб., ...   \n",
       "\n",
       "                     Телефоны  \\\n",
       "0                +79166369231   \n",
       "1                +79850608590   \n",
       "2  +79672086536, +79099269384   \n",
       "\n",
       "                                            Описание        Ремонт  \\\n",
       "0  Без комиссии для нанимателя! Бонус коллегам 12...  Дизайнерский   \n",
       "1  Лот 93107. Елена Анисимова.\\n\\nБонус агенту 50...  Дизайнерский   \n",
       "2  ID 36380:  Шикарная 4-х км. квартира в ЖК \"Нов...    Евроремонт   \n",
       "\n",
       "  Площадь комнат, м2 Балкон             Окна                          Санузел  \\\n",
       "0                NaN    NaN              NaN                              NaN   \n",
       "1        25 25 20 25    NaN  На улицу и двор  Совмещенный (2), Раздельный (1)   \n",
       "2                NaN    NaN  На улицу и двор                  Совмещенный (3)   \n",
       "\n",
       "            Можно с детьми/животными  \\\n",
       "0  Можно с детьми, Можно с животными   \n",
       "1                     Можно с детьми   \n",
       "2                     Можно с детьми   \n",
       "\n",
       "                                       Дополнительно        Название ЖК  \\\n",
       "0  Мебель в комнатах, Мебель на кухне, Ванна, Душ...  Новый Арбат, 2010   \n",
       "1  Мебель в комнатах, Мебель на кухне, Ванна, Душ...        Новый Арбат   \n",
       "2  Мебель в комнатах, Мебель на кухне, Ванна, Душ...        Новый Арбат   \n",
       "\n",
       "  Серия дома  Высота потолков, м                Лифт Мусоропровод  \\\n",
       "0        NaN                 3.0  Пасс (4), Груз (1)           Да   \n",
       "1        NaN                 3.5  Пасс (1), Груз (1)          Нет   \n",
       "2        NaN                 3.2            Пасс (1)          NaN   \n",
       "\n",
       "                      Ссылка на объявление  \n",
       "0  https://www.cian.ru/rent/flat/271271157  \n",
       "1  https://www.cian.ru/rent/flat/271634126  \n",
       "2  https://www.cian.ru/rent/flat/271173086  "
      ]
     },
     "execution_count": 184,
     "metadata": {},
     "output_type": "execute_result"
    }
   ],
   "source": [
    "df = pd.read_csv('/home/s2pac/ElbrusBootcamp/project/data/data.csv')\n",
    "pd.set_option('display.max_columns', None)\n",
    "df.head(3)"
   ]
  },
  {
   "cell_type": "code",
   "execution_count": 185,
   "metadata": {},
   "outputs": [
    {
     "data": {
      "text/plain": [
       "array(['Дизайнерский', 'Евроремонт', 'Косметический', nan, 'Без ремонта'],\n",
       "      dtype=object)"
      ]
     },
     "execution_count": 185,
     "metadata": {},
     "output_type": "execute_result"
    }
   ],
   "source": [
    "df[\"Ремонт\"].unique()"
   ]
  },
  {
   "cell_type": "code",
   "execution_count": 186,
   "metadata": {},
   "outputs": [],
   "source": [
    "# Удаляю строки, если в адресе нет Москвы\n",
    "df = df[df['Адрес'].str.lower().str.contains('москва')]\n"
   ]
  },
  {
   "cell_type": "code",
   "execution_count": 187,
   "metadata": {},
   "outputs": [
    {
     "data": {
      "text/html": [
       "<div>\n",
       "<style scoped>\n",
       "    .dataframe tbody tr th:only-of-type {\n",
       "        vertical-align: middle;\n",
       "    }\n",
       "\n",
       "    .dataframe tbody tr th {\n",
       "        vertical-align: top;\n",
       "    }\n",
       "\n",
       "    .dataframe thead th {\n",
       "        text-align: right;\n",
       "    }\n",
       "</style>\n",
       "<table border=\"1\" class=\"dataframe\">\n",
       "  <thead>\n",
       "    <tr style=\"text-align: right;\">\n",
       "      <th></th>\n",
       "      <th>ID  объявления</th>\n",
       "      <th>Количество комнат</th>\n",
       "      <th>Метро</th>\n",
       "      <th>Адрес</th>\n",
       "      <th>Площадь, м2</th>\n",
       "      <th>Дом</th>\n",
       "      <th>Цена</th>\n",
       "      <th>Ремонт</th>\n",
       "      <th>Санузел</th>\n",
       "      <th>Лифт</th>\n",
       "    </tr>\n",
       "  </thead>\n",
       "  <tbody>\n",
       "    <tr>\n",
       "      <th>0</th>\n",
       "      <td>271271157</td>\n",
       "      <td>4</td>\n",
       "      <td>м. Смоленская (9 мин пешком)</td>\n",
       "      <td>Москва, улица Новый Арбат, 27</td>\n",
       "      <td>200.0/20.0</td>\n",
       "      <td>5/16, Монолитный</td>\n",
       "      <td>500000.0 руб./ За месяц, Залог - 500000 руб., ...</td>\n",
       "      <td>Дизайнерский</td>\n",
       "      <td>NaN</td>\n",
       "      <td>Пасс (4), Груз (1)</td>\n",
       "    </tr>\n",
       "  </tbody>\n",
       "</table>\n",
       "</div>"
      ],
      "text/plain": [
       "   ID  объявления Количество комнат                         Метро  \\\n",
       "0       271271157                 4  м. Смоленская (9 мин пешком)   \n",
       "\n",
       "                           Адрес Площадь, м2               Дом  \\\n",
       "0  Москва, улица Новый Арбат, 27  200.0/20.0  5/16, Монолитный   \n",
       "\n",
       "                                                Цена        Ремонт Санузел  \\\n",
       "0  500000.0 руб./ За месяц, Залог - 500000 руб., ...  Дизайнерский     NaN   \n",
       "\n",
       "                 Лифт  \n",
       "0  Пасс (4), Груз (1)  "
      ]
     },
     "execution_count": 187,
     "metadata": {},
     "output_type": "execute_result"
    }
   ],
   "source": [
    "#Удаляю лишние колонки, которые не нужны для анализа\n",
    "df.drop(columns=[\"Unnamed: 0\", \"Парковка\", \"Телефоны\", \"Описание\", \"Ссылка на объявление\", \"Серия дома\", \"Название ЖК\", \"Тип\", \"Высота потолков, м\", \"Мусоропровод\", \"Площадь комнат, м2\", \"Балкон\", \"Можно с детьми/животными\", \"Дополнительно\", \"Окна\"], inplace=True)\n",
    "df.head(1)"
   ]
  },
  {
   "cell_type": "code",
   "execution_count": 188,
   "metadata": {},
   "outputs": [
    {
     "data": {
      "text/plain": [
       "0"
      ]
     },
     "execution_count": 188,
     "metadata": {},
     "output_type": "execute_result"
    }
   ],
   "source": [
    "#Проверяю на дубликаты\n",
    "df.duplicated().sum().tolist()"
   ]
  },
  {
   "cell_type": "markdown",
   "metadata": {},
   "source": [
    "**Обрабатываю Цену**\n"
   ]
  },
  {
   "cell_type": "code",
   "execution_count": 189,
   "metadata": {},
   "outputs": [],
   "source": [
    "# Преобразую цену в целое число\n",
    "df['Цена'] = df['Цена'].str.split('.').str[0]\n",
    "df['Цена'] = df['Цена'].astype('int')"
   ]
  },
  {
   "cell_type": "markdown",
   "metadata": {},
   "source": [
    "**Обрабатываю колонку Ремонт**"
   ]
  },
  {
   "cell_type": "code",
   "execution_count": 190,
   "metadata": {},
   "outputs": [
    {
     "name": "stderr",
     "output_type": "stream",
     "text": [
      "/tmp/ipykernel_63142/1091225742.py:6: FutureWarning: Downcasting behavior in `replace` is deprecated and will be removed in a future version. To retain the old behavior, explicitly call `result.infer_objects(copy=False)`. To opt-in to the future behavior, set `pd.set_option('future.no_silent_downcasting', True)`\n",
      "  df['Ремонт'] = df['Ремонт'].replace({\n",
      "/tmp/ipykernel_63142/1091225742.py:17: FutureWarning: A value is trying to be set on a copy of a DataFrame or Series through chained assignment using an inplace method.\n",
      "The behavior will change in pandas 3.0. This inplace method will never work because the intermediate object on which we are setting values always behaves as a copy.\n",
      "\n",
      "For example, when doing 'df[col].method(value, inplace=True)', try using 'df.method({col: value}, inplace=True)' or df[col] = df[col].method(value) instead, to perform the operation inplace on the original object.\n",
      "\n",
      "\n",
      "  df['Ремонт'].fillna(repair_mode, inplace=True)\n"
     ]
    }
   ],
   "source": [
    "#0 - Косметический\n",
    "#1 - Без ремонта\n",
    "#2 - Евроремонт\n",
    "#3 - Дизайнерский\n",
    "\n",
    "df['Ремонт'] = df['Ремонт'].replace({\n",
    "    'Косметический': 0,\n",
    "    'Без ремонта': 1,\n",
    "    'Евроремонт': 2,\n",
    "    'Дизайнерский': 3\n",
    "})\n",
    "\n",
    "# Нахожу наиболее частый тип ремонта\n",
    "repair_mode = df['Ремонт'].mode()[0]\n",
    "\n",
    "# Заполняю пропуски\n",
    "df['Ремонт'].fillna(repair_mode, inplace=True)\n",
    "\n",
    "# Преобразую в целочисленный тип\n",
    "df['Ремонт'] = df['Ремонт'].astype(int)\n"
   ]
  },
  {
   "cell_type": "markdown",
   "metadata": {},
   "source": [
    "**Обрабатываю Количество комнат** "
   ]
  },
  {
   "cell_type": "code",
   "execution_count": 191,
   "metadata": {},
   "outputs": [],
   "source": [
    "# Удаляю из колонки все символы после запятой\n",
    "df['Количество комнат'] = df['Количество комнат'].astype(str).str.split(',').str[0]\n",
    "\n",
    "# Преобразую колонку в числовой формат\n",
    "df['Количество комнат'] = pd.to_numeric(df['Количество комнат'], errors='coerce')\n",
    "\n",
    "# Создаю словарь значения количества комнат по цене\n",
    "house_bathroom_types = df.groupby('Цена')['Количество комнат'].agg(\n",
    "    lambda x: x.mode()[0] if len(x.mode()) > 0 and not pd.isna(x.mode()[0]) else None\n",
    ").to_dict()\n",
    "\n",
    "# Заполнения пропуски на основе цены\n",
    "def fill_rooms_by_price(row):\n",
    "    if pd.isna(row['Количество комнат']):\n",
    "        price = row['Цена']\n",
    "        if price in house_bathroom_types and not pd.isna(house_bathroom_types[price]):\n",
    "            return house_bathroom_types[price]\n",
    "    return row['Количество комнат']\n",
    "\n",
    "# Применяю функцию заполнения\n",
    "df['Количество комнат'] = df.apply(fill_rooms_by_price, axis=1)\n",
    "\n",
    "# Если остались пропуски, заполняю наиболее частым значением\n",
    "room_mode = df['Количество комнат'].mode()[0]\n",
    "df['Количество комнат'] = df['Количество комнат'].fillna(room_mode)\n",
    "\n",
    "#Приведу в числовой тип к int\n",
    "df['Количество комнат'] = df['Количество комнат'].astype(int)"
   ]
  },
  {
   "cell_type": "markdown",
   "metadata": {},
   "source": [
    "**Обрабатываю Дом**"
   ]
  },
  {
   "cell_type": "code",
   "execution_count": 192,
   "metadata": {},
   "outputs": [],
   "source": [
    "#Удаляю из колонки Дом все символы до запятой\n",
    "df['Дом'] = df['Дом'].str.split(',').str[1]"
   ]
  },
  {
   "cell_type": "code",
   "execution_count": 193,
   "metadata": {},
   "outputs": [],
   "source": [
    "# Выделяю имя станции метро из строки\n",
    "def extract_metro_station(metro_str):\n",
    "    if pd.isna(metro_str):\n",
    "        return None\n",
    "    try:\n",
    "        # Извлекаю станцию метро\n",
    "        match = re.search(r'м\\.\\s+([^(]+)', metro_str)\n",
    "        if match:\n",
    "            return match.group(1).strip()\n",
    "        return None\n",
    "    except Exception:\n",
    "        return None\n",
    "\n",
    "# Создаю новую колонку с названиями станций метро\n",
    "df['Станция_метро'] = df['Метро'].apply(extract_metro_station)\n",
    "\n",
    "# Создаю словарь наиболее частых типов домов по станции метро\n",
    "station_house_types = df.groupby('Станция_метро')['Дом'].agg(lambda x: x.mode()[0] if len(x.mode()) > 0 else None).to_dict()\n",
    "\n",
    "# Заполняю пропуски на основе станции метро\n",
    "def fill_house_by_station(row):\n",
    "    if pd.isna(row['Дом']):\n",
    "        station = row['Станция_метро']\n",
    "        if station in station_house_types and not pd.isna(station_house_types[station]):\n",
    "            return station_house_types[station]\n",
    "    return row['Дом']\n",
    "\n",
    "# Применяю функцию заполнения\n",
    "df['Дом'] = df.apply(fill_house_by_station, axis=1)\n",
    "\n",
    "# Если остались пропуски, заполняю общим наиболее частым значением\n",
    "df['Дом'] = df['Дом'].fillna(df['Дом'].mode()[0])\n"
   ]
  },
  {
   "cell_type": "code",
   "execution_count": 194,
   "metadata": {},
   "outputs": [
    {
     "data": {
      "text/plain": [
       "array([' Монолитный', ' Монолитно-кирпичный', ' Кирпичный', ' Панельный',\n",
       "       ' Сталинский', ' старый фонд', ' Блочный', ' Деревянный',\n",
       "       ' Щитовой'], dtype=object)"
      ]
     },
     "execution_count": 194,
     "metadata": {},
     "output_type": "execute_result"
    }
   ],
   "source": [
    "df['Дом'].unique()"
   ]
  },
  {
   "cell_type": "code",
   "execution_count": 195,
   "metadata": {},
   "outputs": [
    {
     "name": "stderr",
     "output_type": "stream",
     "text": [
      "/tmp/ipykernel_63142/1842918352.py:7: FutureWarning: Downcasting behavior in `replace` is deprecated and will be removed in a future version. To retain the old behavior, explicitly call `result.infer_objects(copy=False)`. To opt-in to the future behavior, set `pd.set_option('future.no_silent_downcasting', True)`\n",
      "  df['Дом'] = df['Дом'].replace({\n",
      "/tmp/ipykernel_63142/1842918352.py:23: FutureWarning: A value is trying to be set on a copy of a DataFrame or Series through chained assignment using an inplace method.\n",
      "The behavior will change in pandas 3.0. This inplace method will never work because the intermediate object on which we are setting values always behaves as a copy.\n",
      "\n",
      "For example, when doing 'df[col].method(value, inplace=True)', try using 'df.method({col: value}, inplace=True)' or df[col] = df[col].method(value) instead, to perform the operation inplace on the original object.\n",
      "\n",
      "\n",
      "  df['Дом'].fillna(house, inplace=True)\n"
     ]
    }
   ],
   "source": [
    "#0 - Панельный/Блочный/Щитовой\n",
    "#1 - Кирпичный/Деревянный\n",
    "#2 - Монолитный/Сталинский\n",
    "#3 - Монолитно-кирпичный\n",
    "#4 - старый фонд\n",
    "\n",
    "df['Дом'] = df['Дом'].replace({\n",
    "    ' Панельный': 0,\n",
    "    ' Блочный': 0,\n",
    "    ' Щитовой': 0,\n",
    "    ' Кирпичный': 1,\n",
    "    ' Деревянный': 1,\n",
    "    ' Монолитный': 2,\n",
    "    ' Сталинский': 2,\n",
    "    ' Монолитно-кирпичный': 3,\n",
    "    ' старый фонд': 4\n",
    "})\n",
    "\n",
    "# Нахожу наиболее частый тип Дома\n",
    "house = df['Дом'].mode()[0]\n",
    "\n",
    "# Заполняю пропуски\n",
    "df['Дом'].fillna(house, inplace=True)\n",
    "\n",
    "# Преобразую в целочисленный тип\n",
    "df['Дом'] = df['Дом'].astype(int)"
   ]
  },
  {
   "cell_type": "markdown",
   "metadata": {},
   "source": [
    "**Обрабатываю метро**"
   ]
  },
  {
   "cell_type": "code",
   "execution_count": 196,
   "metadata": {},
   "outputs": [],
   "source": [
    "# Преобразую колонку Метро в значение времени в минутах (пешком)\n",
    "def preprocess_metro(metro_str):\n",
    "    if pd.isna(metro_str):\n",
    "        return None\n",
    "    try:\n",
    "        number = re.search(r'\\((\\d+)', metro_str)\n",
    "        if not number:\n",
    "            return None\n",
    "        number = int(number.group(1))\n",
    "        if 'на машине' in metro_str:\n",
    "            return number * 4.9\n",
    "        else:\n",
    "            return number\n",
    "    except Exception:\n",
    "        return None\n",
    "\n",
    "# Создаю новую колонку с названиями станций метро\n",
    "df['Станция_метро'] = df['Метро'].apply(extract_metro_station)\n",
    "\n",
    "df['Метро_время'] = df['Метро'].apply(preprocess_metro)\n",
    "\n",
    "# Преобразую к числовому типу\n",
    "df['Метро_время'] = pd.to_numeric(df['Метро_время'], errors='coerce')\n",
    "\n",
    "# Заполняю пропущенные значения медианой по станциям\n",
    "# Создаю словарь медиан для каждой станции\n",
    "station_medians = df.groupby('Станция_метро')['Метро_время'].median().to_dict()\n",
    "\n",
    "# Функция для заполнения пропусков на основе станции\n",
    "def fill_metro_by_station(row):\n",
    "    if pd.isna(row['Метро_время']) and not pd.isna(row['Станция_метро']):\n",
    "        station = row['Станция_метро']\n",
    "        if station in station_medians and not pd.isna(station_medians[station]):\n",
    "            return station_medians[station]\n",
    "    return row['Метро_время']\n",
    "\n",
    "# Применяю функцию заполнения\n",
    "df['Метро_время'] = df.apply(fill_metro_by_station, axis=1)\n",
    "\n",
    "# Если все еще остались пропуски, заполняю их общей медианой\n",
    "overall_median = df['Метро_время'].median()\n",
    "df['Метро_время'] = df['Метро_время'].fillna(overall_median)\n",
    "\n",
    "# Преобразую в целочисленный тип\n",
    "df['Метро_время'] = df['Метро_время'].round().astype('int')\n",
    "\n",
    "# Заменяю исходную колонку Метро на обработанную Метро_время\n",
    "df['Метро'] = df['Метро_время']\n",
    "\n",
    "# Удаляю временные колонки\n",
    "df = df.drop(['Метро_время', 'Станция_метро'], axis=1)\n"
   ]
  },
  {
   "cell_type": "markdown",
   "metadata": {},
   "source": [
    "**Обрабатываю Площадь**"
   ]
  },
  {
   "cell_type": "code",
   "execution_count": 197,
   "metadata": {},
   "outputs": [],
   "source": [
    "# Обрабатываю площадь\n",
    "df['Площадь, м2'] = df['Площадь, м2'].apply(lambda x: x.split('/')[0] if '/' in x else x)\n",
    "\n",
    "#Преобразую в float\n",
    "df['Площадь, м2'] =  df['Площадь, м2'].astype('float')\n",
    "\n",
    "#Преобразую в int\n",
    "df['Площадь, м2'] = df['Площадь, м2'].astype('int')"
   ]
  },
  {
   "cell_type": "markdown",
   "metadata": {},
   "source": [
    "**Обрабатываю Санузел**"
   ]
  },
  {
   "cell_type": "code",
   "execution_count": 198,
   "metadata": {},
   "outputs": [
    {
     "name": "stderr",
     "output_type": "stream",
     "text": [
      "/tmp/ipykernel_63142/2362877580.py:16: FutureWarning: Downcasting behavior in `replace` is deprecated and will be removed in a future version. To retain the old behavior, explicitly call `result.infer_objects(copy=False)`. To opt-in to the future behavior, set `pd.set_option('future.no_silent_downcasting', True)`\n",
      "  df['Санузел'] = df['Санузел'].replace({\n"
     ]
    }
   ],
   "source": [
    "#0 - Совмещенный (1) / Раздельный (1) / Совмещенный (1), Раздельный (1) / Совмещенный (2) /\n",
    "# Раздельный (2) / Совмещенный (1), Раздельный (2) / Совмещенный (2), Раздельный (2) / Совмещенный (2), Раздельный (2)\n",
    "\n",
    "#1 - Совмещенный (2), Раздельный (1) / Совмещенный (3) / Совмещенный (1), Раздельный (3) /\n",
    "# Совмещенный (3), Раздельный (2)\n",
    "\n",
    "#2 - Совмещенный (3), Раздельный (3) / Совмещенный (2), Раздельный (3) / Совмещенный (3), Раздельный (1)\n",
    "\n",
    "#3 - Раздельный (3) / Совмещенный (4) / Совмещенный (4), Раздельный (1)\n",
    "\n",
    "#4 - Раздельный (4) / Совмещенный (4), Раздельный (2)\n",
    "\n",
    "#5 - Совмещенный (2), Раздельный (4)\n",
    "\n",
    "\n",
    "df['Санузел'] = df['Санузел'].replace({\n",
    "    'Совмещенный (1)': 0,\n",
    "    'Раздельный (1)': 0,\n",
    "    'Совмещенный (1), Раздельный (1)': 0,\n",
    "    'Совмещенный (2)': 0,\n",
    "    'Раздельный (2) / Совмещенный (1)': 0,\n",
    "    'Раздельный (2)': 0,\n",
    "    'Совмещенный (1), Раздельный (2)': 0,\n",
    "    'Совмещенный (2), Раздельный (2)': 0,\n",
    "    'Совмещенный (2), Раздельный (1)': 1,\n",
    "    'Совмещенный (3)': 1,\n",
    "    'Совмещенный (1), Раздельный (3)': 1,\n",
    "    'Совмещенный (3), Раздельный (2)': 1,\n",
    "    'Совмещенный (3), Раздельный (3)': 2,\n",
    "    'Совмещенный (2), Раздельный (3)': 2,\n",
    "    'Совмещенный (3), Раздельный (1)': 2,\n",
    "    'Раздельный (3)': 3,\n",
    "    'Совмещенный (4)': 3,\n",
    "    'Совмещенный (4), Раздельный (1)': 3,\n",
    "    'Раздельный (4)': 4,\n",
    "    'Совмещенный (4), Раздельный (2)': 4,\n",
    "    'Совмещенный (2), Раздельный (4)': 5,\n",
    "\n",
    "\n",
    "})"
   ]
  },
  {
   "cell_type": "code",
   "execution_count": 199,
   "metadata": {},
   "outputs": [],
   "source": [
    "# Создаю словарь санузлов по типу дома\n",
    "house_bathroom_types = df.groupby('Дом')['Санузел'].agg(lambda x: x.mode()[0] if len(x.mode()) > 0 and not pd.isna(x.mode()[0]) else None).to_dict()\n",
    "\n",
    "#Заполняю пропуски на основе типа дома\n",
    "def fill_bathroom_by_house(row):\n",
    "    if pd.isna(row['Санузел']):\n",
    "        house = row['Дом']\n",
    "        if house in house_bathroom_types and not pd.isna(house_bathroom_types[house]):\n",
    "            return house_bathroom_types[house]\n",
    "    return row['Санузел']\n",
    "\n",
    "df['Санузел'] = df.apply(fill_bathroom_by_house, axis=1)\n",
    "\n",
    "#Приведу в числовой тип к int\n",
    "df['Санузел'] = df['Санузел'].astype(int)"
   ]
  },
  {
   "cell_type": "code",
   "execution_count": 200,
   "metadata": {},
   "outputs": [],
   "source": [
    "df.drop(columns=[\"Адрес\", \"Лифт\"], inplace=True)"
   ]
  },
  {
   "cell_type": "code",
   "execution_count": 201,
   "metadata": {},
   "outputs": [
    {
     "name": "stdout",
     "output_type": "stream",
     "text": [
      "<class 'pandas.core.frame.DataFrame'>\n",
      "Index: 19737 entries, 0 to 23367\n",
      "Data columns (total 8 columns):\n",
      " #   Column             Non-Null Count  Dtype\n",
      "---  ------             --------------  -----\n",
      " 0   ID  объявления     19737 non-null  int64\n",
      " 1   Количество комнат  19737 non-null  int64\n",
      " 2   Метро              19737 non-null  int64\n",
      " 3   Площадь, м2        19737 non-null  int64\n",
      " 4   Дом                19737 non-null  int64\n",
      " 5   Цена               19737 non-null  int64\n",
      " 6   Ремонт             19737 non-null  int64\n",
      " 7   Санузел            19737 non-null  int64\n",
      "dtypes: int64(8)\n",
      "memory usage: 1.4 MB\n"
     ]
    }
   ],
   "source": [
    "df.info()"
   ]
  },
  {
   "cell_type": "code",
   "execution_count": 202,
   "metadata": {},
   "outputs": [
    {
     "name": "stdout",
     "output_type": "stream",
     "text": [
      "ID  объявления: [271271157 271634126 271173086 ... 268679909 274807525 274672243]\n",
      "\n",
      "\n",
      "Количество комнат: [4 2 3 5 6 1]\n",
      "\n",
      "\n",
      "Метро: [  9   8   7   3   5   4  10   2   6  12  11  15  20 123  49  69  54  34\n",
      "  74  22  19  17  18  24  14  13  23  39  27  29  35  44   1  25  16  30\n",
      "  63  78  59  32  21 147  83 119  33  26  28  31   0  98 103  45  92 196\n",
      " 294 172 167  36  40  38  60  64  88  37 270 118 113  93  55  53  42  41\n",
      "  57  56  62  51  47  50 108  43  86 132  48  68  61]\n",
      "\n",
      "\n",
      "Площадь, м2: [200 198 170  58  92 213  98 120  90  80 100 180 222 225  30 150 201  64\n",
      " 112 190 255 186 140 132 256 380  91 135  44  85 133 210 165 168 250 105\n",
      " 134  60 142 103 155 214 204 260 237 215 175 228 160  45  65  87  75  99\n",
      " 219 130 174 336 338  52  56  94  40  41  95  70  63 189 212 111 202 123\n",
      " 220 206 195  53  68  55  89  43 110 117  96 115  76 126 124 178 181 129\n",
      " 176 247 300 209 173 258  35  71  57  42  82  37  84  38  36  67  31  27\n",
      "  32  39  46  34  29  77  26  50  54  48  33 102 238 234 108 122 138 145\n",
      "  74 143 312  25  61 235  78  72 116 146 169 326 218 184 414  21  66 153\n",
      " 106 127 151 113 125  47  86  93 162  62  22  51  73  81  20  83  59  79\n",
      "  17  28  49  88  19  10  23  15  16  18  13  24  69 101 707 775 157  14\n",
      "  97 109 239 144 119 156 141 104 158 185 163 136 526 147 161 525 230 191\n",
      " 118 282 121 203 280 114 265 107 240 188 192 128 500 211 205 199 325 172\n",
      " 194 270 131 231 182 376 342 604 609 254 171 227 358 177 305 137 208 340\n",
      " 275 286 149 241 245 148  12 360 152 154 310  11 283 400 332 183 187 350\n",
      " 236 560 167 216 330 302 320 193 267 197 139 242 347 232 166 410 402 301\n",
      " 272 365 196 323 295 179 550 318 233 251 273 221 207 430 290 164 379 700\n",
      "   7 510 420 159 513 345 299 224 229 371 261 811 328 800]\n",
      "\n",
      "\n",
      "Дом: [2 3 1 0 4]\n",
      "\n",
      "\n",
      "Цена: [ 500000  400000  225000  470000  350000  250000  130000  210000  290000\n",
      "  100000  200000  450000  120000  180000  190000  205000  230000  590000\n",
      "  850000  300000  750000  870000  135000  150000  320000  600000  195000\n",
      "   90000  175000  240000  650000  700000  115000  185000  140000  145000\n",
      "   99000  280000  520000  550000   80000   95000  105000  165000  220000\n",
      "  270000  330000  360000  110000  160000  170000  370000   60000   36000\n",
      "   55000   65000   30000   45000   35000   48000   29999   38000   28000\n",
      "   29000   32000   40000   43000   47000   70000   26000   27000   33000\n",
      "   33500   34000   44000   49000   54500   71000   92000   46000   23000\n",
      "   42000   49700   50000   35500   39000  260000  299000  950000   89000\n",
      "    5000  380000 1500000   85000   59900   75000  129000   57000   58000\n",
      "   59000   74990  278800  390000 1000000   52000   56000   37000   41000\n",
      "   44990   49500   54650   68000   78000   31000   34990   37500   38500\n",
      "   53000   54000   63000   66000   68500   73000   74000   64000   69000\n",
      "   57500   25000   44999   49990   51900   67000   80100  150600   24990\n",
      "   36999   40500   51975   60150   83000   39999   58500   39500   36800\n",
      "   52600   39700   56700   62800   35999   44900   22000   48500   54600\n",
      "   28990   34999   77000   21500   17500   62000   31900   51000   29990\n",
      "   49999   69999   56500   81000   41500   30999   39990   61500   39900\n",
      "   41999   42500  580000   79000   58999   76000   18000   20000   23100\n",
      "   23750   24000   26500   31600   21000   84000   32900   51300   28500\n",
      "   54990   55500   57999   87000  164847  114999  125000   81500  109500\n",
      " 1200000  199000  310000   79999   93000  430000  900000   35900  119000\n",
      "  128000   26990   42666   47999   52500   74900   50050  127200  254300\n",
      "  172900  155000  395000   35200   79500  192000   72000  499000  108000\n",
      "  990000  227000  420000   41900   72500   42999   99500   69900   97500\n",
      "   99900  425000 1775000 1050000  375000  215000  570000 3000000 1100000\n",
      "  229000  670000 1300000  235000  269999 2500000  199999  399900  349999\n",
      "  179900   49900   34800   34500   38200   46800   57700   59700   88300\n",
      "   47500   46900  103500   49450   44500   16000   80500   76300   71990\n",
      "   73990  100300   40400  130800   56999   35800   64100   78700   91700\n",
      "  109400  111990  115700  117400  121000  137700   54999   26999  115990\n",
      "   61300   64300   66700   83990   92386  101592  107170  108703  110490\n",
      "  113728  113290  115636  117090  117560  117900  117840  120021   58700\n",
      "  340000   82500   86000   90990   91400   95500   96600   98200   99990\n",
      "  102990  105200  116990  122300  128400  127990   61000   37999   71463\n",
      "   71035   72106  119500  162500  173500   46500   37900   38990   35990\n",
      "   38999   73999   44800   64999   88900  104000  113700  116900   41990\n",
      "  117000  295000  129990   96000  179999   82000   31990   45500   24999\n",
      "   32500   79900  149000  149999   46990   84999   34900   59999   47990\n",
      "  141000   31999  800000   87500   88000   72990  137000   31500  410000\n",
      "   98000  249999   51500   89500   90400   59990   33800   66500  510000\n",
      "  562000   62100   84990  104500  432000  690000  209000  365000  199900\n",
      "  299900  349900  399999  217000  349000  218000  249000  460000  489999\n",
      "  649900  469999   36900   27500   52900   33900   35300   36280   37990\n",
      "   41400  490000   72900   64500   32700   64900  109999   15000   43500\n",
      "  108500  159000  228000  699000  149900  179000  184000  498000  540000\n",
      "   89600   94400   98800  118300  120200  138400  169990  275000   89900\n",
      "   94000   99499   44980   67200   70800   60640  122250   89440   95470\n",
      "  118999  122000   55400   91000   97000   10000   68200   61900   82900\n",
      "  379000   54900  298000  279000  269000  134998  109990   62500  103000\n",
      "    9800   32999   42900  397000  139000  186000   89990  449000   65500\n",
      " 2000000  440000 1400000 1250000   82400  123700   24500   64800   43400\n",
      "   29500   32998   49998  116000  146000   79300   74999  555000  359000\n",
      "   29800  119990   36990   45900   36500   55999    8081  875000    9000\n",
      "   11000   80999   89999  109000   99999  129999  134999   30500   33300\n",
      "  133500   52999  127000   46999   76999   29900   23999   10638 1030000\n",
      " 1475000  475000  177000   68900   25300  138000   28600   38700   40900\n",
      "   49400   53999   56600   27999  124999  229999  299999   50600   51800\n",
      "   72300   91600   50500   85200   43700   12000  588000 1236000   55750\n",
      "  480000]\n",
      "\n",
      "\n",
      "Ремонт: [3 2 0 1]\n",
      "\n",
      "\n",
      "Санузел: [0 1 3 2 4 5]\n",
      "\n",
      "\n"
     ]
    }
   ],
   "source": [
    "#отображаю уникальные значения в каждой колонке\n",
    "for column in df.columns:\n",
    "    print(f\"{column}: {df[column].unique()}\")\n",
    "    print(\"\\n\")\n"
   ]
  },
  {
   "cell_type": "markdown",
   "metadata": {},
   "source": [
    "**Измененяю колонки с русского на английский**"
   ]
  },
  {
   "cell_type": "code",
   "execution_count": null,
   "metadata": {},
   "outputs": [],
   "source": [
    "# Переименовываю колонки\n",
    "df.rename(columns={\n",
    "    'ID  объявления': 'id_listing',\n",
    "    'Количество комнат': 'number_of_rooms',\n",
    "    'Метро': 'metro_on_foot',\n",
    "    'Площадь, м2': 'area_m2',\n",
    "    'Дом': 'building_info',\n",
    "    'Цена': 'price',\n",
    "    'Ремонт': 'renovation',\n",
    "    'Санузел': 'bathroom',\n",
    "}, inplace=True)\n",
    "\n",
    "# Сохраняю измененния в файл\n",
    "df.to_csv('/home/s2pac/ElbrusBootcamp/project/data/edited_data.csv', index=False)\n"
   ]
  }
 ],
 "metadata": {
  "kernelspec": {
   "display_name": "base",
   "language": "python",
   "name": "python3"
  },
  "language_info": {
   "codemirror_mode": {
    "name": "ipython",
    "version": 3
   },
   "file_extension": ".py",
   "mimetype": "text/x-python",
   "name": "python",
   "nbconvert_exporter": "python",
   "pygments_lexer": "ipython3",
   "version": "3.12.9"
  }
 },
 "nbformat": 4,
 "nbformat_minor": 2
}
